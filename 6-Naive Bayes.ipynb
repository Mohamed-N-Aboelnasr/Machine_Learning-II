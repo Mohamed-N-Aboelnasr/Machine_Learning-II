{
 "cells": [
  {
   "cell_type": "markdown",
   "metadata": {},
   "source": [
    "<center>\n",
    "    <h1>Mohamed Nasser Aboelnasr</h1>\n",
    "</center>"
   ]
  },
  {
   "cell_type": "markdown",
   "metadata": {
    "id": "0lq7Zgeo7say"
   },
   "source": [
    "**Naive Bayes** is a powerful algorithm that is used for text data analysis and with problems with multiple classes. To understand Naive Bayes theorem’s working, it is important to understand the Bayes theorem concept first as it is based on the latter.\n",
    "\n",
    "**Bayes theorem**, formulated by Thomas Bayes, calculates the probability of an event occurring based on the prior knowledge of conditions related to an event. It is based on the following formula:\n",
    "\n",
    "**P(A|B) = P(A) * P(B|A)/P(B)**"
   ]
  },
  {
   "cell_type": "markdown",
   "metadata": {
    "id": "iO1AXx9oBFSZ"
   },
   "source": [
    "##  Implementing the algorithm"
   ]
  },
  {
   "cell_type": "code",
   "execution_count": 1,
   "metadata": {
    "colab": {
     "base_uri": "https://localhost:8080/",
     "height": 221
    },
    "id": "g2vojcu5KniL",
    "outputId": "61702704-c353-4b59-b177-f7a56514b736"
   },
   "outputs": [
    {
     "name": "stdout",
     "output_type": "stream",
     "text": [
      "(5572, 2)\n"
     ]
    },
    {
     "data": {
      "text/html": [
       "<div>\n",
       "<style scoped>\n",
       "    .dataframe tbody tr th:only-of-type {\n",
       "        vertical-align: middle;\n",
       "    }\n",
       "\n",
       "    .dataframe tbody tr th {\n",
       "        vertical-align: top;\n",
       "    }\n",
       "\n",
       "    .dataframe thead th {\n",
       "        text-align: right;\n",
       "    }\n",
       "</style>\n",
       "<table border=\"1\" class=\"dataframe\">\n",
       "  <thead>\n",
       "    <tr style=\"text-align: right;\">\n",
       "      <th></th>\n",
       "      <th>v1</th>\n",
       "      <th>v2</th>\n",
       "    </tr>\n",
       "  </thead>\n",
       "  <tbody>\n",
       "    <tr>\n",
       "      <th>0</th>\n",
       "      <td>ham</td>\n",
       "      <td>Go until jurong point, crazy.. Available only ...</td>\n",
       "    </tr>\n",
       "    <tr>\n",
       "      <th>1</th>\n",
       "      <td>ham</td>\n",
       "      <td>Ok lar... Joking wif u oni...</td>\n",
       "    </tr>\n",
       "    <tr>\n",
       "      <th>2</th>\n",
       "      <td>spam</td>\n",
       "      <td>Free entry in 2 a wkly comp to win FA Cup fina...</td>\n",
       "    </tr>\n",
       "    <tr>\n",
       "      <th>3</th>\n",
       "      <td>ham</td>\n",
       "      <td>U dun say so early hor... U c already then say...</td>\n",
       "    </tr>\n",
       "    <tr>\n",
       "      <th>4</th>\n",
       "      <td>ham</td>\n",
       "      <td>Nah I don't think he goes to usf, he lives aro...</td>\n",
       "    </tr>\n",
       "  </tbody>\n",
       "</table>\n",
       "</div>"
      ],
      "text/plain": [
       "     v1                                                 v2\n",
       "0   ham  Go until jurong point, crazy.. Available only ...\n",
       "1   ham                      Ok lar... Joking wif u oni...\n",
       "2  spam  Free entry in 2 a wkly comp to win FA Cup fina...\n",
       "3   ham  U dun say so early hor... U c already then say...\n",
       "4   ham  Nah I don't think he goes to usf, he lives aro..."
      ]
     },
     "execution_count": 1,
     "metadata": {},
     "output_type": "execute_result"
    }
   ],
   "source": [
    "import pandas as pd\n",
    "\n",
    "sms_spam = pd.read_csv('spam.csv', encoding = \"ISO-8859-1\", usecols=[0,1])\n",
    "\n",
    "print(sms_spam.shape)\n",
    "sms_spam.head()"
   ]
  },
  {
   "cell_type": "code",
   "execution_count": 2,
   "metadata": {
    "id": "SPLLkLRv9flE"
   },
   "outputs": [],
   "source": [
    "sms_spam.rename(columns={\"v1\": \"Label\", \"v2\": \"SMS\"}, inplace=True)"
   ]
  },
  {
   "cell_type": "code",
   "execution_count": 3,
   "metadata": {
    "colab": {
     "base_uri": "https://localhost:8080/",
     "height": 204
    },
    "id": "VcPILFwW-i-O",
    "outputId": "c3276c72-8795-4c74-ae3b-160d74f7ff56"
   },
   "outputs": [
    {
     "data": {
      "text/html": [
       "<div>\n",
       "<style scoped>\n",
       "    .dataframe tbody tr th:only-of-type {\n",
       "        vertical-align: middle;\n",
       "    }\n",
       "\n",
       "    .dataframe tbody tr th {\n",
       "        vertical-align: top;\n",
       "    }\n",
       "\n",
       "    .dataframe thead th {\n",
       "        text-align: right;\n",
       "    }\n",
       "</style>\n",
       "<table border=\"1\" class=\"dataframe\">\n",
       "  <thead>\n",
       "    <tr style=\"text-align: right;\">\n",
       "      <th></th>\n",
       "      <th>Label</th>\n",
       "      <th>SMS</th>\n",
       "    </tr>\n",
       "  </thead>\n",
       "  <tbody>\n",
       "    <tr>\n",
       "      <th>0</th>\n",
       "      <td>ham</td>\n",
       "      <td>Go until jurong point, crazy.. Available only ...</td>\n",
       "    </tr>\n",
       "    <tr>\n",
       "      <th>1</th>\n",
       "      <td>ham</td>\n",
       "      <td>Ok lar... Joking wif u oni...</td>\n",
       "    </tr>\n",
       "    <tr>\n",
       "      <th>2</th>\n",
       "      <td>spam</td>\n",
       "      <td>Free entry in 2 a wkly comp to win FA Cup fina...</td>\n",
       "    </tr>\n",
       "    <tr>\n",
       "      <th>3</th>\n",
       "      <td>ham</td>\n",
       "      <td>U dun say so early hor... U c already then say...</td>\n",
       "    </tr>\n",
       "    <tr>\n",
       "      <th>4</th>\n",
       "      <td>ham</td>\n",
       "      <td>Nah I don't think he goes to usf, he lives aro...</td>\n",
       "    </tr>\n",
       "  </tbody>\n",
       "</table>\n",
       "</div>"
      ],
      "text/plain": [
       "  Label                                                SMS\n",
       "0   ham  Go until jurong point, crazy.. Available only ...\n",
       "1   ham                      Ok lar... Joking wif u oni...\n",
       "2  spam  Free entry in 2 a wkly comp to win FA Cup fina...\n",
       "3   ham  U dun say so early hor... U c already then say...\n",
       "4   ham  Nah I don't think he goes to usf, he lives aro..."
      ]
     },
     "execution_count": 3,
     "metadata": {},
     "output_type": "execute_result"
    }
   ],
   "source": [
    "sms_spam.head()"
   ]
  },
  {
   "cell_type": "code",
   "execution_count": 4,
   "metadata": {
    "colab": {
     "base_uri": "https://localhost:8080/"
    },
    "id": "jGWeVyHCKnic",
    "outputId": "70f43502-ecd3-4b8f-cd12-ee06890d3f5b"
   },
   "outputs": [
    {
     "data": {
      "text/plain": [
       "ham     0.865937\n",
       "spam    0.134063\n",
       "Name: Label, dtype: float64"
      ]
     },
     "execution_count": 4,
     "metadata": {},
     "output_type": "execute_result"
    }
   ],
   "source": [
    "sms_spam['Label'].value_counts(normalize=True)\n"
   ]
  },
  {
   "cell_type": "code",
   "execution_count": 5,
   "metadata": {
    "colab": {
     "base_uri": "https://localhost:8080/"
    },
    "id": "9GtPL8fhKnig",
    "outputId": "c3c3b67c-b3fc-4d27-ce03-02533dad1835"
   },
   "outputs": [
    {
     "name": "stdout",
     "output_type": "stream",
     "text": [
      "(4458, 2)\n",
      "(1114, 2)\n"
     ]
    }
   ],
   "source": [
    "# Randomize the dataset\n",
    "data_randomized = sms_spam.sample(frac=1, random_state=1)\n",
    "\n",
    "# Calculate index for split\n",
    "training_test_index = round(len(data_randomized) * 0.8)\n",
    "\n",
    "# Split into training and test sets\n",
    "training_set = data_randomized[:training_test_index].reset_index(drop=True)\n",
    "test_set = data_randomized[training_test_index:].reset_index(drop=True)\n",
    "\n",
    "print(training_set.shape)\n",
    "print(test_set.shape)"
   ]
  },
  {
   "cell_type": "markdown",
   "metadata": {
    "id": "J2RY1MLmKnij"
   },
   "source": [
    "# Data Cleaning\n",
    "### When a new message comes in, our multinomial Naive Bayes algorithm will make the classification based on the results it gets to these two equations below, where \"w1\" is the first word, and w1,w2, ..., wn is the entire message\n",
    "\n",
    "\n",
    "### To make the calculations easier..."
   ]
  },
  {
   "cell_type": "markdown",
   "metadata": {
    "id": "wknGi4f7tCiV"
   },
   "source": [
    "![spam1.PNG](data:image/png;base64,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)"
   ]
  },
  {
   "cell_type": "code",
   "execution_count": 6,
   "metadata": {
    "colab": {
     "base_uri": "https://localhost:8080/",
     "height": 142
    },
    "id": "IVHb5tLJKnit",
    "outputId": "97db44f2-4a0d-4764-e817-c481920597d8"
   },
   "outputs": [
    {
     "name": "stderr",
     "output_type": "stream",
     "text": [
      "<ipython-input-6-00cff2ccb743>:2: FutureWarning: The default value of regex will change from True to False in a future version.\n",
      "  training_set['SMS'] = training_set['SMS'].str.replace('\\W', ' ') # Removes punctuation\n"
     ]
    },
    {
     "data": {
      "text/html": [
       "<div>\n",
       "<style scoped>\n",
       "    .dataframe tbody tr th:only-of-type {\n",
       "        vertical-align: middle;\n",
       "    }\n",
       "\n",
       "    .dataframe tbody tr th {\n",
       "        vertical-align: top;\n",
       "    }\n",
       "\n",
       "    .dataframe thead th {\n",
       "        text-align: right;\n",
       "    }\n",
       "</style>\n",
       "<table border=\"1\" class=\"dataframe\">\n",
       "  <thead>\n",
       "    <tr style=\"text-align: right;\">\n",
       "      <th></th>\n",
       "      <th>Label</th>\n",
       "      <th>SMS</th>\n",
       "    </tr>\n",
       "  </thead>\n",
       "  <tbody>\n",
       "    <tr>\n",
       "      <th>0</th>\n",
       "      <td>ham</td>\n",
       "      <td>convey my regards to him</td>\n",
       "    </tr>\n",
       "    <tr>\n",
       "      <th>1</th>\n",
       "      <td>ham</td>\n",
       "      <td>û_  anyway  many good evenings to u  s</td>\n",
       "    </tr>\n",
       "    <tr>\n",
       "      <th>2</th>\n",
       "      <td>ham</td>\n",
       "      <td>my sort code is  and acc no is   the bank is n...</td>\n",
       "    </tr>\n",
       "  </tbody>\n",
       "</table>\n",
       "</div>"
      ],
      "text/plain": [
       "  Label                                                SMS\n",
       "0   ham                           convey my regards to him\n",
       "1   ham             û_  anyway  many good evenings to u  s\n",
       "2   ham  my sort code is  and acc no is   the bank is n..."
      ]
     },
     "execution_count": 6,
     "metadata": {},
     "output_type": "execute_result"
    }
   ],
   "source": [
    "# After cleaning\n",
    "training_set['SMS'] = training_set['SMS'].str.replace('\\W', ' ') # Removes punctuation\n",
    "training_set['SMS'] = training_set['SMS'].str.lower()\n",
    "training_set.head(3)"
   ]
  },
  {
   "cell_type": "code",
   "execution_count": 7,
   "metadata": {
    "colab": {
     "base_uri": "https://localhost:8080/"
    },
    "id": "rot7LHVzKniw",
    "outputId": "f2c5fc57-c28d-46dc-c068-e15b330a8f36"
   },
   "outputs": [
    {
     "data": {
      "text/plain": [
       "7766"
      ]
     },
     "execution_count": 7,
     "metadata": {},
     "output_type": "execute_result"
    }
   ],
   "source": [
    "training_set['SMS'] = training_set['SMS'].str.split()\n",
    "\n",
    "vocabulary = []\n",
    "for sms in training_set['SMS']:\n",
    "    for word in sms:\n",
    "        vocabulary.append(word)\n",
    "\n",
    "vocabulary = list(set(vocabulary))\n",
    "len(vocabulary)\n"
   ]
  },
  {
   "cell_type": "code",
   "execution_count": 8,
   "metadata": {
    "colab": {
     "base_uri": "https://localhost:8080/",
     "height": 253
    },
    "id": "iQIpCT9FKni6",
    "outputId": "240ec0c3-01e4-40ce-ca91-f649e6c568ef"
   },
   "outputs": [
    {
     "data": {
      "text/html": [
       "<div>\n",
       "<style scoped>\n",
       "    .dataframe tbody tr th:only-of-type {\n",
       "        vertical-align: middle;\n",
       "    }\n",
       "\n",
       "    .dataframe tbody tr th {\n",
       "        vertical-align: top;\n",
       "    }\n",
       "\n",
       "    .dataframe thead th {\n",
       "        text-align: right;\n",
       "    }\n",
       "</style>\n",
       "<table border=\"1\" class=\"dataframe\">\n",
       "  <thead>\n",
       "    <tr style=\"text-align: right;\">\n",
       "      <th></th>\n",
       "      <th>splash</th>\n",
       "      <th>paragon</th>\n",
       "      <th>ext</th>\n",
       "      <th>clever</th>\n",
       "      <th>yr</th>\n",
       "      <th>neighbor</th>\n",
       "      <th>08707509020</th>\n",
       "      <th>meaningful</th>\n",
       "      <th>pleased</th>\n",
       "      <th>goin</th>\n",
       "      <th>...</th>\n",
       "      <th>goes</th>\n",
       "      <th>guitar</th>\n",
       "      <th>singing</th>\n",
       "      <th>sounds</th>\n",
       "      <th>margaret</th>\n",
       "      <th>chatting</th>\n",
       "      <th>iåõd</th>\n",
       "      <th>noisy</th>\n",
       "      <th>match</th>\n",
       "      <th>smth</th>\n",
       "    </tr>\n",
       "  </thead>\n",
       "  <tbody>\n",
       "    <tr>\n",
       "      <th>0</th>\n",
       "      <td>0</td>\n",
       "      <td>0</td>\n",
       "      <td>0</td>\n",
       "      <td>0</td>\n",
       "      <td>0</td>\n",
       "      <td>0</td>\n",
       "      <td>0</td>\n",
       "      <td>0</td>\n",
       "      <td>0</td>\n",
       "      <td>0</td>\n",
       "      <td>...</td>\n",
       "      <td>0</td>\n",
       "      <td>0</td>\n",
       "      <td>0</td>\n",
       "      <td>0</td>\n",
       "      <td>0</td>\n",
       "      <td>0</td>\n",
       "      <td>0</td>\n",
       "      <td>0</td>\n",
       "      <td>0</td>\n",
       "      <td>0</td>\n",
       "    </tr>\n",
       "    <tr>\n",
       "      <th>1</th>\n",
       "      <td>0</td>\n",
       "      <td>0</td>\n",
       "      <td>0</td>\n",
       "      <td>0</td>\n",
       "      <td>0</td>\n",
       "      <td>0</td>\n",
       "      <td>0</td>\n",
       "      <td>0</td>\n",
       "      <td>0</td>\n",
       "      <td>0</td>\n",
       "      <td>...</td>\n",
       "      <td>0</td>\n",
       "      <td>0</td>\n",
       "      <td>0</td>\n",
       "      <td>0</td>\n",
       "      <td>0</td>\n",
       "      <td>0</td>\n",
       "      <td>0</td>\n",
       "      <td>0</td>\n",
       "      <td>0</td>\n",
       "      <td>0</td>\n",
       "    </tr>\n",
       "    <tr>\n",
       "      <th>2</th>\n",
       "      <td>0</td>\n",
       "      <td>0</td>\n",
       "      <td>0</td>\n",
       "      <td>0</td>\n",
       "      <td>0</td>\n",
       "      <td>0</td>\n",
       "      <td>0</td>\n",
       "      <td>0</td>\n",
       "      <td>0</td>\n",
       "      <td>0</td>\n",
       "      <td>...</td>\n",
       "      <td>0</td>\n",
       "      <td>0</td>\n",
       "      <td>0</td>\n",
       "      <td>0</td>\n",
       "      <td>0</td>\n",
       "      <td>0</td>\n",
       "      <td>0</td>\n",
       "      <td>0</td>\n",
       "      <td>0</td>\n",
       "      <td>0</td>\n",
       "    </tr>\n",
       "    <tr>\n",
       "      <th>3</th>\n",
       "      <td>0</td>\n",
       "      <td>0</td>\n",
       "      <td>0</td>\n",
       "      <td>0</td>\n",
       "      <td>0</td>\n",
       "      <td>0</td>\n",
       "      <td>0</td>\n",
       "      <td>0</td>\n",
       "      <td>0</td>\n",
       "      <td>0</td>\n",
       "      <td>...</td>\n",
       "      <td>0</td>\n",
       "      <td>0</td>\n",
       "      <td>0</td>\n",
       "      <td>0</td>\n",
       "      <td>0</td>\n",
       "      <td>0</td>\n",
       "      <td>0</td>\n",
       "      <td>0</td>\n",
       "      <td>0</td>\n",
       "      <td>0</td>\n",
       "    </tr>\n",
       "    <tr>\n",
       "      <th>4</th>\n",
       "      <td>0</td>\n",
       "      <td>0</td>\n",
       "      <td>0</td>\n",
       "      <td>0</td>\n",
       "      <td>0</td>\n",
       "      <td>0</td>\n",
       "      <td>0</td>\n",
       "      <td>0</td>\n",
       "      <td>0</td>\n",
       "      <td>0</td>\n",
       "      <td>...</td>\n",
       "      <td>0</td>\n",
       "      <td>0</td>\n",
       "      <td>0</td>\n",
       "      <td>0</td>\n",
       "      <td>0</td>\n",
       "      <td>0</td>\n",
       "      <td>0</td>\n",
       "      <td>0</td>\n",
       "      <td>0</td>\n",
       "      <td>0</td>\n",
       "    </tr>\n",
       "  </tbody>\n",
       "</table>\n",
       "<p>5 rows × 7766 columns</p>\n",
       "</div>"
      ],
      "text/plain": [
       "   splash  paragon  ext  clever  yr  neighbor  08707509020  meaningful  \\\n",
       "0       0        0    0       0   0         0            0           0   \n",
       "1       0        0    0       0   0         0            0           0   \n",
       "2       0        0    0       0   0         0            0           0   \n",
       "3       0        0    0       0   0         0            0           0   \n",
       "4       0        0    0       0   0         0            0           0   \n",
       "\n",
       "   pleased  goin  ...  goes  guitar  singing  sounds  margaret  chatting  \\\n",
       "0        0     0  ...     0       0        0       0         0         0   \n",
       "1        0     0  ...     0       0        0       0         0         0   \n",
       "2        0     0  ...     0       0        0       0         0         0   \n",
       "3        0     0  ...     0       0        0       0         0         0   \n",
       "4        0     0  ...     0       0        0       0         0         0   \n",
       "\n",
       "   iåõd  noisy  match  smth  \n",
       "0     0      0      0     0  \n",
       "1     0      0      0     0  \n",
       "2     0      0      0     0  \n",
       "3     0      0      0     0  \n",
       "4     0      0      0     0  \n",
       "\n",
       "[5 rows x 7766 columns]"
      ]
     },
     "execution_count": 8,
     "metadata": {},
     "output_type": "execute_result"
    }
   ],
   "source": [
    "word_counts_per_sms = {unique_word: [0] * len(training_set['SMS']) for unique_word in vocabulary}\n",
    "\n",
    "for index, sms in enumerate(training_set['SMS']):\n",
    "    for word in sms:\n",
    "        word_counts_per_sms[word][index] += 1\n",
    "\n",
    "word_counts = pd.DataFrame(word_counts_per_sms)\n",
    "word_counts.head()"
   ]
  },
  {
   "cell_type": "code",
   "execution_count": 9,
   "metadata": {
    "colab": {
     "base_uri": "https://localhost:8080/",
     "height": 576
    },
    "id": "vXmsDP9_Kni-",
    "outputId": "7964a7ab-d563-4c7f-c5cc-2af526981221"
   },
   "outputs": [
    {
     "data": {
      "text/html": [
       "<div>\n",
       "<style scoped>\n",
       "    .dataframe tbody tr th:only-of-type {\n",
       "        vertical-align: middle;\n",
       "    }\n",
       "\n",
       "    .dataframe tbody tr th {\n",
       "        vertical-align: top;\n",
       "    }\n",
       "\n",
       "    .dataframe thead th {\n",
       "        text-align: right;\n",
       "    }\n",
       "</style>\n",
       "<table border=\"1\" class=\"dataframe\">\n",
       "  <thead>\n",
       "    <tr style=\"text-align: right;\">\n",
       "      <th></th>\n",
       "      <th>Label</th>\n",
       "      <th>SMS</th>\n",
       "      <th>splash</th>\n",
       "      <th>paragon</th>\n",
       "      <th>ext</th>\n",
       "      <th>clever</th>\n",
       "      <th>yr</th>\n",
       "      <th>neighbor</th>\n",
       "      <th>08707509020</th>\n",
       "      <th>meaningful</th>\n",
       "      <th>...</th>\n",
       "      <th>goes</th>\n",
       "      <th>guitar</th>\n",
       "      <th>singing</th>\n",
       "      <th>sounds</th>\n",
       "      <th>margaret</th>\n",
       "      <th>chatting</th>\n",
       "      <th>iåõd</th>\n",
       "      <th>noisy</th>\n",
       "      <th>match</th>\n",
       "      <th>smth</th>\n",
       "    </tr>\n",
       "  </thead>\n",
       "  <tbody>\n",
       "    <tr>\n",
       "      <th>0</th>\n",
       "      <td>ham</td>\n",
       "      <td>[convey, my, regards, to, him]</td>\n",
       "      <td>0</td>\n",
       "      <td>0</td>\n",
       "      <td>0</td>\n",
       "      <td>0</td>\n",
       "      <td>0</td>\n",
       "      <td>0</td>\n",
       "      <td>0</td>\n",
       "      <td>0</td>\n",
       "      <td>...</td>\n",
       "      <td>0</td>\n",
       "      <td>0</td>\n",
       "      <td>0</td>\n",
       "      <td>0</td>\n",
       "      <td>0</td>\n",
       "      <td>0</td>\n",
       "      <td>0</td>\n",
       "      <td>0</td>\n",
       "      <td>0</td>\n",
       "      <td>0</td>\n",
       "    </tr>\n",
       "    <tr>\n",
       "      <th>1</th>\n",
       "      <td>ham</td>\n",
       "      <td>[û_, anyway, many, good, evenings, to, u, s]</td>\n",
       "      <td>0</td>\n",
       "      <td>0</td>\n",
       "      <td>0</td>\n",
       "      <td>0</td>\n",
       "      <td>0</td>\n",
       "      <td>0</td>\n",
       "      <td>0</td>\n",
       "      <td>0</td>\n",
       "      <td>...</td>\n",
       "      <td>0</td>\n",
       "      <td>0</td>\n",
       "      <td>0</td>\n",
       "      <td>0</td>\n",
       "      <td>0</td>\n",
       "      <td>0</td>\n",
       "      <td>0</td>\n",
       "      <td>0</td>\n",
       "      <td>0</td>\n",
       "      <td>0</td>\n",
       "    </tr>\n",
       "    <tr>\n",
       "      <th>2</th>\n",
       "      <td>ham</td>\n",
       "      <td>[my, sort, code, is, and, acc, no, is, the, ba...</td>\n",
       "      <td>0</td>\n",
       "      <td>0</td>\n",
       "      <td>0</td>\n",
       "      <td>0</td>\n",
       "      <td>0</td>\n",
       "      <td>0</td>\n",
       "      <td>0</td>\n",
       "      <td>0</td>\n",
       "      <td>...</td>\n",
       "      <td>0</td>\n",
       "      <td>0</td>\n",
       "      <td>0</td>\n",
       "      <td>0</td>\n",
       "      <td>0</td>\n",
       "      <td>0</td>\n",
       "      <td>0</td>\n",
       "      <td>0</td>\n",
       "      <td>0</td>\n",
       "      <td>0</td>\n",
       "    </tr>\n",
       "    <tr>\n",
       "      <th>3</th>\n",
       "      <td>ham</td>\n",
       "      <td>[sorry, i, din, lock, my, keypad]</td>\n",
       "      <td>0</td>\n",
       "      <td>0</td>\n",
       "      <td>0</td>\n",
       "      <td>0</td>\n",
       "      <td>0</td>\n",
       "      <td>0</td>\n",
       "      <td>0</td>\n",
       "      <td>0</td>\n",
       "      <td>...</td>\n",
       "      <td>0</td>\n",
       "      <td>0</td>\n",
       "      <td>0</td>\n",
       "      <td>0</td>\n",
       "      <td>0</td>\n",
       "      <td>0</td>\n",
       "      <td>0</td>\n",
       "      <td>0</td>\n",
       "      <td>0</td>\n",
       "      <td>0</td>\n",
       "    </tr>\n",
       "    <tr>\n",
       "      <th>4</th>\n",
       "      <td>spam</td>\n",
       "      <td>[hi, babe, its, chloe, how, r, u, i, was, smas...</td>\n",
       "      <td>0</td>\n",
       "      <td>0</td>\n",
       "      <td>0</td>\n",
       "      <td>0</td>\n",
       "      <td>0</td>\n",
       "      <td>0</td>\n",
       "      <td>0</td>\n",
       "      <td>0</td>\n",
       "      <td>...</td>\n",
       "      <td>0</td>\n",
       "      <td>0</td>\n",
       "      <td>0</td>\n",
       "      <td>0</td>\n",
       "      <td>0</td>\n",
       "      <td>0</td>\n",
       "      <td>0</td>\n",
       "      <td>0</td>\n",
       "      <td>0</td>\n",
       "      <td>0</td>\n",
       "    </tr>\n",
       "  </tbody>\n",
       "</table>\n",
       "<p>5 rows × 7768 columns</p>\n",
       "</div>"
      ],
      "text/plain": [
       "  Label                                                SMS  splash  paragon  \\\n",
       "0   ham                     [convey, my, regards, to, him]       0        0   \n",
       "1   ham       [û_, anyway, many, good, evenings, to, u, s]       0        0   \n",
       "2   ham  [my, sort, code, is, and, acc, no, is, the, ba...       0        0   \n",
       "3   ham                  [sorry, i, din, lock, my, keypad]       0        0   \n",
       "4  spam  [hi, babe, its, chloe, how, r, u, i, was, smas...       0        0   \n",
       "\n",
       "   ext  clever  yr  neighbor  08707509020  meaningful  ...  goes  guitar  \\\n",
       "0    0       0   0         0            0           0  ...     0       0   \n",
       "1    0       0   0         0            0           0  ...     0       0   \n",
       "2    0       0   0         0            0           0  ...     0       0   \n",
       "3    0       0   0         0            0           0  ...     0       0   \n",
       "4    0       0   0         0            0           0  ...     0       0   \n",
       "\n",
       "   singing  sounds  margaret  chatting  iåõd  noisy  match  smth  \n",
       "0        0       0         0         0     0      0      0     0  \n",
       "1        0       0         0         0     0      0      0     0  \n",
       "2        0       0         0         0     0      0      0     0  \n",
       "3        0       0         0         0     0      0      0     0  \n",
       "4        0       0         0         0     0      0      0     0  \n",
       "\n",
       "[5 rows x 7768 columns]"
      ]
     },
     "execution_count": 9,
     "metadata": {},
     "output_type": "execute_result"
    }
   ],
   "source": [
    "training_set_clean = pd.concat([training_set, word_counts], axis=1)\n",
    "training_set_clean.head()"
   ]
  },
  {
   "cell_type": "code",
   "execution_count": 10,
   "metadata": {
    "id": "CY_LwOHMKnjD"
   },
   "outputs": [],
   "source": [
    "# Isolating spam and ham messages first\n",
    "spam_messages = training_set_clean[training_set_clean['Label'] == 'spam']\n",
    "ham_messages = training_set_clean[training_set_clean['Label'] == 'ham']\n",
    "\n",
    "# P(Spam) and P(Ham)\n",
    "p_spam = len(spam_messages) / len(training_set_clean)\n",
    "p_ham = len(ham_messages) / len(training_set_clean)\n",
    "\n",
    "# N_Spam\n",
    "n_words_per_spam_message = spam_messages['SMS'].apply(len)\n",
    "n_spam = n_words_per_spam_message.sum()\n",
    "\n",
    "# N_Ham\n",
    "n_words_per_ham_message = ham_messages['SMS'].apply(len)\n",
    "n_ham = n_words_per_ham_message.sum()\n",
    "\n",
    "# N_Vocabulary\n",
    "n_vocabulary = len(vocabulary)\n",
    "\n",
    "# Laplace smoothing\n",
    "alpha = 1"
   ]
  },
  {
   "cell_type": "code",
   "execution_count": 11,
   "metadata": {
    "id": "fX1JK-KZKnjF"
   },
   "outputs": [],
   "source": [
    "# Initiate parameters\n",
    "parameters_spam = {unique_word:0 for unique_word in vocabulary}\n",
    "parameters_ham = {unique_word:0 for unique_word in vocabulary}\n",
    "\n",
    "# Calculate parameters\n",
    "for word in vocabulary:\n",
    "    n_word_given_spam = spam_messages[word].sum() # spam_messages already defined\n",
    "    p_word_given_spam = (n_word_given_spam + alpha) / (n_spam + alpha*n_vocabulary)\n",
    "    parameters_spam[word] = p_word_given_spam\n",
    "\n",
    "    n_word_given_ham = ham_messages[word].sum() # ham_messages already defined\n",
    "    p_word_given_ham = (n_word_given_ham + alpha) / (n_ham + alpha*n_vocabulary)\n",
    "    parameters_ham[word] = p_word_given_ham"
   ]
  },
  {
   "cell_type": "code",
   "execution_count": 12,
   "metadata": {
    "id": "dlp5My6tKnjH"
   },
   "outputs": [],
   "source": [
    "import re\n",
    "\n",
    "def classify(message):\n",
    "    '''\n",
    "    message: a string\n",
    "    '''\n",
    "\n",
    "    message = re.sub('\\W', ' ', message)\n",
    "    message = message.lower().split()\n",
    "\n",
    "    p_spam_given_message = p_spam\n",
    "    p_ham_given_message = p_ham\n",
    "\n",
    "    for word in message:\n",
    "        if word in parameters_spam:\n",
    "            p_spam_given_message *= parameters_spam[word]\n",
    "\n",
    "        if word in parameters_ham: \n",
    "            p_ham_given_message *= parameters_ham[word]\n",
    "\n",
    "    print('P(Spam|message):', p_spam_given_message)\n",
    "    print('P(Ham|message):', p_ham_given_message)\n",
    "\n",
    "    if p_ham_given_message > p_spam_given_message:\n",
    "        print('Label: Ham')\n",
    "    elif p_ham_given_message < p_spam_given_message:\n",
    "        print('Label: Spam')\n",
    "    else:\n",
    "        print('Equal proabilities, have a human classify this!')"
   ]
  },
  {
   "cell_type": "code",
   "execution_count": 13,
   "metadata": {
    "colab": {
     "base_uri": "https://localhost:8080/"
    },
    "id": "CXXUJVcmKnjK",
    "outputId": "6b04d827-855b-4d50-c467-3b7170c6c37d"
   },
   "outputs": [
    {
     "name": "stdout",
     "output_type": "stream",
     "text": [
      "P(Spam|message): 7.551469020619691e-26\n",
      "P(Ham|message): 3.13163390665657e-27\n",
      "Label: Spam\n"
     ]
    }
   ],
   "source": [
    "classify('WINNER!! This is the secret code to unlock the money: C3421.')\n"
   ]
  },
  {
   "cell_type": "code",
   "execution_count": 14,
   "metadata": {
    "colab": {
     "base_uri": "https://localhost:8080/"
    },
    "id": "Sk9HYaiMKnjP",
    "outputId": "3010ac33-dfa8-4183-a375-0e8a724a9017"
   },
   "outputs": [
    {
     "name": "stdout",
     "output_type": "stream",
     "text": [
      "P(Spam|message): 4.914731817244035e-25\n",
      "P(Ham|message): 4.052730830087535e-21\n",
      "Label: Ham\n"
     ]
    }
   ],
   "source": [
    "classify(\"Sounds good, Tom, then see u there\")\n"
   ]
  },
  {
   "cell_type": "markdown",
   "metadata": {
    "id": "byh_czgrKnjS"
   },
   "source": [
    "# Measuring the Spam Filter's Accuracy\n"
   ]
  },
  {
   "cell_type": "code",
   "execution_count": 15,
   "metadata": {
    "id": "PDd2x_71KnjT"
   },
   "outputs": [],
   "source": [
    "def classify_test_set(message):\n",
    "    \n",
    "    '''\n",
    "     message: a string\n",
    "     '''\n",
    "\n",
    "    message = re.sub('\\W', ' ', message)\n",
    "    message = message.lower().split()\n",
    "\n",
    "    p_spam_given_message = p_spam\n",
    "    p_ham_given_message = p_ham\n",
    "\n",
    "    for word in message:\n",
    "        if word in parameters_spam:\n",
    "            p_spam_given_message *= parameters_spam[word]\n",
    "\n",
    "        if word in parameters_ham:\n",
    "            p_ham_given_message *= parameters_ham[word]\n",
    "\n",
    "    if p_ham_given_message > p_spam_given_message:\n",
    "        return 'ham'\n",
    "    elif p_spam_given_message > p_ham_given_message:\n",
    "        return 'spam'\n",
    "    else:\n",
    "        return 'needs human classification'"
   ]
  },
  {
   "cell_type": "code",
   "execution_count": 16,
   "metadata": {
    "colab": {
     "base_uri": "https://localhost:8080/",
     "height": 204
    },
    "id": "2382C-ZYKnjV",
    "outputId": "442aa072-86fc-40cc-a2a5-ebe7e9dc6ae1"
   },
   "outputs": [
    {
     "data": {
      "text/html": [
       "<div>\n",
       "<style scoped>\n",
       "    .dataframe tbody tr th:only-of-type {\n",
       "        vertical-align: middle;\n",
       "    }\n",
       "\n",
       "    .dataframe tbody tr th {\n",
       "        vertical-align: top;\n",
       "    }\n",
       "\n",
       "    .dataframe thead th {\n",
       "        text-align: right;\n",
       "    }\n",
       "</style>\n",
       "<table border=\"1\" class=\"dataframe\">\n",
       "  <thead>\n",
       "    <tr style=\"text-align: right;\">\n",
       "      <th></th>\n",
       "      <th>Label</th>\n",
       "      <th>SMS</th>\n",
       "      <th>predicted</th>\n",
       "    </tr>\n",
       "  </thead>\n",
       "  <tbody>\n",
       "    <tr>\n",
       "      <th>0</th>\n",
       "      <td>ham</td>\n",
       "      <td>S...from the training manual it show there is ...</td>\n",
       "      <td>ham</td>\n",
       "    </tr>\n",
       "    <tr>\n",
       "      <th>1</th>\n",
       "      <td>spam</td>\n",
       "      <td>Do you want a new Video phone? 600 anytime any...</td>\n",
       "      <td>spam</td>\n",
       "    </tr>\n",
       "    <tr>\n",
       "      <th>2</th>\n",
       "      <td>ham</td>\n",
       "      <td>True. Its easier with her here.</td>\n",
       "      <td>ham</td>\n",
       "    </tr>\n",
       "    <tr>\n",
       "      <th>3</th>\n",
       "      <td>ham</td>\n",
       "      <td>Midnight at the earliest</td>\n",
       "      <td>ham</td>\n",
       "    </tr>\n",
       "    <tr>\n",
       "      <th>4</th>\n",
       "      <td>ham</td>\n",
       "      <td>All done, all handed in. Don't know if mega sh...</td>\n",
       "      <td>ham</td>\n",
       "    </tr>\n",
       "  </tbody>\n",
       "</table>\n",
       "</div>"
      ],
      "text/plain": [
       "  Label                                                SMS predicted\n",
       "0   ham  S...from the training manual it show there is ...       ham\n",
       "1  spam  Do you want a new Video phone? 600 anytime any...      spam\n",
       "2   ham                    True. Its easier with her here.       ham\n",
       "3   ham                           Midnight at the earliest       ham\n",
       "4   ham  All done, all handed in. Don't know if mega sh...       ham"
      ]
     },
     "execution_count": 16,
     "metadata": {},
     "output_type": "execute_result"
    }
   ],
   "source": [
    "test_set['predicted'] = test_set['SMS'].apply(classify_test_set)\n",
    "test_set.head()"
   ]
  },
  {
   "cell_type": "code",
   "execution_count": 17,
   "metadata": {
    "colab": {
     "base_uri": "https://localhost:8080/"
    },
    "id": "XudIHYlxKnjX",
    "outputId": "e9620b2f-527e-4cea-a34a-cde2fc9d0019"
   },
   "outputs": [
    {
     "name": "stdout",
     "output_type": "stream",
     "text": [
      "Correct: 1107\n",
      "Incorrect: 7\n",
      "Accuracy: 0.9937163375224417\n"
     ]
    }
   ],
   "source": [
    "correct = 0\n",
    "total = test_set.shape[0]\n",
    "\n",
    "for row in test_set.iterrows():\n",
    "    row = row[1]\n",
    "    if row['Label'] == row['predicted']:\n",
    "        correct += 1\n",
    "\n",
    "print('Correct:', correct)\n",
    "print('Incorrect:', total - correct)\n",
    "print('Accuracy:', correct/total)\n"
   ]
  },
  {
   "cell_type": "markdown",
   "metadata": {
    "id": "DbVikQQsvxFN"
   },
   "source": [
    "# **Checking results by sklearn**"
   ]
  },
  {
   "cell_type": "code",
   "execution_count": 18,
   "metadata": {
    "colab": {
     "base_uri": "https://localhost:8080/",
     "height": 253
    },
    "id": "_mVrx_lEwsQ9",
    "outputId": "e86aa6a8-93a9-4db9-93ee-675bb98c13e3"
   },
   "outputs": [
    {
     "data": {
      "text/html": [
       "<div>\n",
       "<style scoped>\n",
       "    .dataframe tbody tr th:only-of-type {\n",
       "        vertical-align: middle;\n",
       "    }\n",
       "\n",
       "    .dataframe tbody tr th {\n",
       "        vertical-align: top;\n",
       "    }\n",
       "\n",
       "    .dataframe thead th {\n",
       "        text-align: right;\n",
       "    }\n",
       "</style>\n",
       "<table border=\"1\" class=\"dataframe\">\n",
       "  <thead>\n",
       "    <tr style=\"text-align: right;\">\n",
       "      <th></th>\n",
       "      <th>Label</th>\n",
       "      <th>splash</th>\n",
       "      <th>paragon</th>\n",
       "      <th>ext</th>\n",
       "      <th>clever</th>\n",
       "      <th>yr</th>\n",
       "      <th>neighbor</th>\n",
       "      <th>08707509020</th>\n",
       "      <th>meaningful</th>\n",
       "      <th>pleased</th>\n",
       "      <th>...</th>\n",
       "      <th>goes</th>\n",
       "      <th>guitar</th>\n",
       "      <th>singing</th>\n",
       "      <th>sounds</th>\n",
       "      <th>margaret</th>\n",
       "      <th>chatting</th>\n",
       "      <th>iåõd</th>\n",
       "      <th>noisy</th>\n",
       "      <th>match</th>\n",
       "      <th>smth</th>\n",
       "    </tr>\n",
       "  </thead>\n",
       "  <tbody>\n",
       "    <tr>\n",
       "      <th>0</th>\n",
       "      <td>0</td>\n",
       "      <td>0</td>\n",
       "      <td>0</td>\n",
       "      <td>0</td>\n",
       "      <td>0</td>\n",
       "      <td>0</td>\n",
       "      <td>0</td>\n",
       "      <td>0</td>\n",
       "      <td>0</td>\n",
       "      <td>0</td>\n",
       "      <td>...</td>\n",
       "      <td>0</td>\n",
       "      <td>0</td>\n",
       "      <td>0</td>\n",
       "      <td>0</td>\n",
       "      <td>0</td>\n",
       "      <td>0</td>\n",
       "      <td>0</td>\n",
       "      <td>0</td>\n",
       "      <td>0</td>\n",
       "      <td>0</td>\n",
       "    </tr>\n",
       "    <tr>\n",
       "      <th>1</th>\n",
       "      <td>0</td>\n",
       "      <td>0</td>\n",
       "      <td>0</td>\n",
       "      <td>0</td>\n",
       "      <td>0</td>\n",
       "      <td>0</td>\n",
       "      <td>0</td>\n",
       "      <td>0</td>\n",
       "      <td>0</td>\n",
       "      <td>0</td>\n",
       "      <td>...</td>\n",
       "      <td>0</td>\n",
       "      <td>0</td>\n",
       "      <td>0</td>\n",
       "      <td>0</td>\n",
       "      <td>0</td>\n",
       "      <td>0</td>\n",
       "      <td>0</td>\n",
       "      <td>0</td>\n",
       "      <td>0</td>\n",
       "      <td>0</td>\n",
       "    </tr>\n",
       "    <tr>\n",
       "      <th>2</th>\n",
       "      <td>0</td>\n",
       "      <td>0</td>\n",
       "      <td>0</td>\n",
       "      <td>0</td>\n",
       "      <td>0</td>\n",
       "      <td>0</td>\n",
       "      <td>0</td>\n",
       "      <td>0</td>\n",
       "      <td>0</td>\n",
       "      <td>0</td>\n",
       "      <td>...</td>\n",
       "      <td>0</td>\n",
       "      <td>0</td>\n",
       "      <td>0</td>\n",
       "      <td>0</td>\n",
       "      <td>0</td>\n",
       "      <td>0</td>\n",
       "      <td>0</td>\n",
       "      <td>0</td>\n",
       "      <td>0</td>\n",
       "      <td>0</td>\n",
       "    </tr>\n",
       "    <tr>\n",
       "      <th>3</th>\n",
       "      <td>0</td>\n",
       "      <td>0</td>\n",
       "      <td>0</td>\n",
       "      <td>0</td>\n",
       "      <td>0</td>\n",
       "      <td>0</td>\n",
       "      <td>0</td>\n",
       "      <td>0</td>\n",
       "      <td>0</td>\n",
       "      <td>0</td>\n",
       "      <td>...</td>\n",
       "      <td>0</td>\n",
       "      <td>0</td>\n",
       "      <td>0</td>\n",
       "      <td>0</td>\n",
       "      <td>0</td>\n",
       "      <td>0</td>\n",
       "      <td>0</td>\n",
       "      <td>0</td>\n",
       "      <td>0</td>\n",
       "      <td>0</td>\n",
       "    </tr>\n",
       "    <tr>\n",
       "      <th>4</th>\n",
       "      <td>1</td>\n",
       "      <td>0</td>\n",
       "      <td>0</td>\n",
       "      <td>0</td>\n",
       "      <td>0</td>\n",
       "      <td>0</td>\n",
       "      <td>0</td>\n",
       "      <td>0</td>\n",
       "      <td>0</td>\n",
       "      <td>0</td>\n",
       "      <td>...</td>\n",
       "      <td>0</td>\n",
       "      <td>0</td>\n",
       "      <td>0</td>\n",
       "      <td>0</td>\n",
       "      <td>0</td>\n",
       "      <td>0</td>\n",
       "      <td>0</td>\n",
       "      <td>0</td>\n",
       "      <td>0</td>\n",
       "      <td>0</td>\n",
       "    </tr>\n",
       "  </tbody>\n",
       "</table>\n",
       "<p>5 rows × 7767 columns</p>\n",
       "</div>"
      ],
      "text/plain": [
       "   Label  splash  paragon  ext  clever  yr  neighbor  08707509020  meaningful  \\\n",
       "0      0       0        0    0       0   0         0            0           0   \n",
       "1      0       0        0    0       0   0         0            0           0   \n",
       "2      0       0        0    0       0   0         0            0           0   \n",
       "3      0       0        0    0       0   0         0            0           0   \n",
       "4      1       0        0    0       0   0         0            0           0   \n",
       "\n",
       "   pleased  ...  goes  guitar  singing  sounds  margaret  chatting  iåõd  \\\n",
       "0        0  ...     0       0        0       0         0         0     0   \n",
       "1        0  ...     0       0        0       0         0         0     0   \n",
       "2        0  ...     0       0        0       0         0         0     0   \n",
       "3        0  ...     0       0        0       0         0         0     0   \n",
       "4        0  ...     0       0        0       0         0         0     0   \n",
       "\n",
       "   noisy  match  smth  \n",
       "0      0      0     0  \n",
       "1      0      0     0  \n",
       "2      0      0     0  \n",
       "3      0      0     0  \n",
       "4      0      0     0  \n",
       "\n",
       "[5 rows x 7767 columns]"
      ]
     },
     "execution_count": 18,
     "metadata": {},
     "output_type": "execute_result"
    }
   ],
   "source": [
    "train_data = training_set_clean.copy().drop(['SMS'], axis='columns')\n",
    "\n",
    "train_data.Label = train_data['Label'].replace('spam', 1)\n",
    "train_data.Label = train_data['Label'].replace('ham', 0)\n",
    "\n",
    "train_data.head()"
   ]
  },
  {
   "cell_type": "code",
   "execution_count": 19,
   "metadata": {
    "id": "Y8U7ZSgiwINN"
   },
   "outputs": [],
   "source": [
    "X = train_data[train_data.columns.difference(['Label'])]\n",
    "y = train_data['Label']"
   ]
  },
  {
   "cell_type": "code",
   "execution_count": 20,
   "metadata": {
    "colab": {
     "base_uri": "https://localhost:8080/"
    },
    "id": "HNiQiQwmKnjZ",
    "outputId": "4a3ffd75-cd45-42a5-b944-fdf938a42fdb"
   },
   "outputs": [
    {
     "data": {
      "text/plain": [
       "MultinomialNB()"
      ]
     },
     "execution_count": 20,
     "metadata": {},
     "output_type": "execute_result"
    }
   ],
   "source": [
    "from sklearn.naive_bayes import MultinomialNB\n",
    "\n",
    "NBClassifier = MultinomialNB()\n",
    "\n",
    "NBClassifier.fit(X, y)"
   ]
  },
  {
   "cell_type": "code",
   "execution_count": 21,
   "metadata": {
    "colab": {
     "base_uri": "https://localhost:8080/",
     "height": 204
    },
    "id": "BSRzQzro3g5g",
    "outputId": "c7acd1d4-1de6-40ab-c4fc-cf31fa930293"
   },
   "outputs": [
    {
     "data": {
      "text/html": [
       "<div>\n",
       "<style scoped>\n",
       "    .dataframe tbody tr th:only-of-type {\n",
       "        vertical-align: middle;\n",
       "    }\n",
       "\n",
       "    .dataframe tbody tr th {\n",
       "        vertical-align: top;\n",
       "    }\n",
       "\n",
       "    .dataframe thead th {\n",
       "        text-align: right;\n",
       "    }\n",
       "</style>\n",
       "<table border=\"1\" class=\"dataframe\">\n",
       "  <thead>\n",
       "    <tr style=\"text-align: right;\">\n",
       "      <th></th>\n",
       "      <th>Label</th>\n",
       "      <th>SMS</th>\n",
       "    </tr>\n",
       "  </thead>\n",
       "  <tbody>\n",
       "    <tr>\n",
       "      <th>0</th>\n",
       "      <td>ham</td>\n",
       "      <td>S...from the training manual it show there is ...</td>\n",
       "    </tr>\n",
       "    <tr>\n",
       "      <th>1</th>\n",
       "      <td>spam</td>\n",
       "      <td>Do you want a new Video phone? 600 anytime any...</td>\n",
       "    </tr>\n",
       "    <tr>\n",
       "      <th>2</th>\n",
       "      <td>ham</td>\n",
       "      <td>True. Its easier with her here.</td>\n",
       "    </tr>\n",
       "    <tr>\n",
       "      <th>3</th>\n",
       "      <td>ham</td>\n",
       "      <td>Midnight at the earliest</td>\n",
       "    </tr>\n",
       "    <tr>\n",
       "      <th>4</th>\n",
       "      <td>ham</td>\n",
       "      <td>All done, all handed in. Don't know if mega sh...</td>\n",
       "    </tr>\n",
       "  </tbody>\n",
       "</table>\n",
       "</div>"
      ],
      "text/plain": [
       "  Label                                                SMS\n",
       "0   ham  S...from the training manual it show there is ...\n",
       "1  spam  Do you want a new Video phone? 600 anytime any...\n",
       "2   ham                    True. Its easier with her here.\n",
       "3   ham                           Midnight at the earliest\n",
       "4   ham  All done, all handed in. Don't know if mega sh..."
      ]
     },
     "execution_count": 21,
     "metadata": {},
     "output_type": "execute_result"
    }
   ],
   "source": [
    "test_set = test_set[['Label', 'SMS']]\n",
    "test_set.head()"
   ]
  },
  {
   "cell_type": "code",
   "execution_count": 22,
   "metadata": {
    "id": "y12cH3V61RRL"
   },
   "outputs": [],
   "source": [
    "test_set.Label = test_set['Label'].replace('spam', 1)\n",
    "test_set.Label = test_set['Label'].replace('ham', 0)"
   ]
  },
  {
   "cell_type": "code",
   "execution_count": 23,
   "metadata": {
    "colab": {
     "base_uri": "https://localhost:8080/",
     "height": 204
    },
    "id": "qawyEboS4ibf",
    "outputId": "b8ced16b-e877-43be-ea93-d477f1c7cf39"
   },
   "outputs": [
    {
     "name": "stderr",
     "output_type": "stream",
     "text": [
      "<ipython-input-23-a105801e15fb>:2: FutureWarning: The default value of regex will change from True to False in a future version.\n",
      "  test_set['SMS'] = test_set['SMS'].str.replace('\\W', ' ') # Removes punctuation\n"
     ]
    },
    {
     "data": {
      "text/html": [
       "<div>\n",
       "<style scoped>\n",
       "    .dataframe tbody tr th:only-of-type {\n",
       "        vertical-align: middle;\n",
       "    }\n",
       "\n",
       "    .dataframe tbody tr th {\n",
       "        vertical-align: top;\n",
       "    }\n",
       "\n",
       "    .dataframe thead th {\n",
       "        text-align: right;\n",
       "    }\n",
       "</style>\n",
       "<table border=\"1\" class=\"dataframe\">\n",
       "  <thead>\n",
       "    <tr style=\"text-align: right;\">\n",
       "      <th></th>\n",
       "      <th>Label</th>\n",
       "      <th>SMS</th>\n",
       "    </tr>\n",
       "  </thead>\n",
       "  <tbody>\n",
       "    <tr>\n",
       "      <th>0</th>\n",
       "      <td>0</td>\n",
       "      <td>[s, from, the, training, manual, it, show, the...</td>\n",
       "    </tr>\n",
       "    <tr>\n",
       "      <th>1</th>\n",
       "      <td>1</td>\n",
       "      <td>[do, you, want, a, new, video, phone, 600, any...</td>\n",
       "    </tr>\n",
       "    <tr>\n",
       "      <th>2</th>\n",
       "      <td>0</td>\n",
       "      <td>[true, its, easier, with, her, here]</td>\n",
       "    </tr>\n",
       "    <tr>\n",
       "      <th>3</th>\n",
       "      <td>0</td>\n",
       "      <td>[midnight, at, the, earliest]</td>\n",
       "    </tr>\n",
       "    <tr>\n",
       "      <th>4</th>\n",
       "      <td>0</td>\n",
       "      <td>[all, done, all, handed, in, don, t, know, if,...</td>\n",
       "    </tr>\n",
       "  </tbody>\n",
       "</table>\n",
       "</div>"
      ],
      "text/plain": [
       "   Label                                                SMS\n",
       "0      0  [s, from, the, training, manual, it, show, the...\n",
       "1      1  [do, you, want, a, new, video, phone, 600, any...\n",
       "2      0               [true, its, easier, with, her, here]\n",
       "3      0                      [midnight, at, the, earliest]\n",
       "4      0  [all, done, all, handed, in, don, t, know, if,..."
      ]
     },
     "execution_count": 23,
     "metadata": {},
     "output_type": "execute_result"
    }
   ],
   "source": [
    "# After cleaning\n",
    "test_set['SMS'] = test_set['SMS'].str.replace('\\W', ' ') # Removes punctuation\n",
    "test_set['SMS'] = test_set['SMS'].str.lower()\n",
    "test_set['SMS'] = test_set['SMS'].str.split()\n",
    "\n",
    "test_set.head()"
   ]
  },
  {
   "cell_type": "code",
   "execution_count": 24,
   "metadata": {
    "colab": {
     "base_uri": "https://localhost:8080/",
     "height": 253
    },
    "id": "utELxqQ523Fm",
    "outputId": "cab7006c-29f8-4058-90ac-f1f1da9c8dc4"
   },
   "outputs": [
    {
     "data": {
      "text/html": [
       "<div>\n",
       "<style scoped>\n",
       "    .dataframe tbody tr th:only-of-type {\n",
       "        vertical-align: middle;\n",
       "    }\n",
       "\n",
       "    .dataframe tbody tr th {\n",
       "        vertical-align: top;\n",
       "    }\n",
       "\n",
       "    .dataframe thead th {\n",
       "        text-align: right;\n",
       "    }\n",
       "</style>\n",
       "<table border=\"1\" class=\"dataframe\">\n",
       "  <thead>\n",
       "    <tr style=\"text-align: right;\">\n",
       "      <th></th>\n",
       "      <th>splash</th>\n",
       "      <th>paragon</th>\n",
       "      <th>ext</th>\n",
       "      <th>clever</th>\n",
       "      <th>yr</th>\n",
       "      <th>neighbor</th>\n",
       "      <th>08707509020</th>\n",
       "      <th>meaningful</th>\n",
       "      <th>pleased</th>\n",
       "      <th>goin</th>\n",
       "      <th>...</th>\n",
       "      <th>goes</th>\n",
       "      <th>guitar</th>\n",
       "      <th>singing</th>\n",
       "      <th>sounds</th>\n",
       "      <th>margaret</th>\n",
       "      <th>chatting</th>\n",
       "      <th>iåõd</th>\n",
       "      <th>noisy</th>\n",
       "      <th>match</th>\n",
       "      <th>smth</th>\n",
       "    </tr>\n",
       "  </thead>\n",
       "  <tbody>\n",
       "    <tr>\n",
       "      <th>0</th>\n",
       "      <td>0</td>\n",
       "      <td>0</td>\n",
       "      <td>0</td>\n",
       "      <td>0</td>\n",
       "      <td>0</td>\n",
       "      <td>0</td>\n",
       "      <td>0</td>\n",
       "      <td>0</td>\n",
       "      <td>0</td>\n",
       "      <td>0</td>\n",
       "      <td>...</td>\n",
       "      <td>0</td>\n",
       "      <td>0</td>\n",
       "      <td>0</td>\n",
       "      <td>0</td>\n",
       "      <td>0</td>\n",
       "      <td>0</td>\n",
       "      <td>0</td>\n",
       "      <td>0</td>\n",
       "      <td>0</td>\n",
       "      <td>0</td>\n",
       "    </tr>\n",
       "    <tr>\n",
       "      <th>1</th>\n",
       "      <td>0</td>\n",
       "      <td>0</td>\n",
       "      <td>0</td>\n",
       "      <td>0</td>\n",
       "      <td>0</td>\n",
       "      <td>0</td>\n",
       "      <td>0</td>\n",
       "      <td>0</td>\n",
       "      <td>0</td>\n",
       "      <td>0</td>\n",
       "      <td>...</td>\n",
       "      <td>0</td>\n",
       "      <td>0</td>\n",
       "      <td>0</td>\n",
       "      <td>0</td>\n",
       "      <td>0</td>\n",
       "      <td>0</td>\n",
       "      <td>0</td>\n",
       "      <td>0</td>\n",
       "      <td>0</td>\n",
       "      <td>0</td>\n",
       "    </tr>\n",
       "    <tr>\n",
       "      <th>2</th>\n",
       "      <td>0</td>\n",
       "      <td>0</td>\n",
       "      <td>0</td>\n",
       "      <td>0</td>\n",
       "      <td>0</td>\n",
       "      <td>0</td>\n",
       "      <td>0</td>\n",
       "      <td>0</td>\n",
       "      <td>0</td>\n",
       "      <td>0</td>\n",
       "      <td>...</td>\n",
       "      <td>0</td>\n",
       "      <td>0</td>\n",
       "      <td>0</td>\n",
       "      <td>0</td>\n",
       "      <td>0</td>\n",
       "      <td>0</td>\n",
       "      <td>0</td>\n",
       "      <td>0</td>\n",
       "      <td>0</td>\n",
       "      <td>0</td>\n",
       "    </tr>\n",
       "    <tr>\n",
       "      <th>3</th>\n",
       "      <td>0</td>\n",
       "      <td>0</td>\n",
       "      <td>0</td>\n",
       "      <td>0</td>\n",
       "      <td>0</td>\n",
       "      <td>0</td>\n",
       "      <td>0</td>\n",
       "      <td>0</td>\n",
       "      <td>0</td>\n",
       "      <td>0</td>\n",
       "      <td>...</td>\n",
       "      <td>0</td>\n",
       "      <td>0</td>\n",
       "      <td>0</td>\n",
       "      <td>0</td>\n",
       "      <td>0</td>\n",
       "      <td>0</td>\n",
       "      <td>0</td>\n",
       "      <td>0</td>\n",
       "      <td>0</td>\n",
       "      <td>0</td>\n",
       "    </tr>\n",
       "    <tr>\n",
       "      <th>4</th>\n",
       "      <td>0</td>\n",
       "      <td>0</td>\n",
       "      <td>0</td>\n",
       "      <td>0</td>\n",
       "      <td>0</td>\n",
       "      <td>0</td>\n",
       "      <td>0</td>\n",
       "      <td>0</td>\n",
       "      <td>0</td>\n",
       "      <td>0</td>\n",
       "      <td>...</td>\n",
       "      <td>0</td>\n",
       "      <td>0</td>\n",
       "      <td>0</td>\n",
       "      <td>0</td>\n",
       "      <td>0</td>\n",
       "      <td>0</td>\n",
       "      <td>0</td>\n",
       "      <td>0</td>\n",
       "      <td>0</td>\n",
       "      <td>0</td>\n",
       "    </tr>\n",
       "  </tbody>\n",
       "</table>\n",
       "<p>5 rows × 7766 columns</p>\n",
       "</div>"
      ],
      "text/plain": [
       "   splash  paragon  ext  clever  yr  neighbor  08707509020  meaningful  \\\n",
       "0       0        0    0       0   0         0            0           0   \n",
       "1       0        0    0       0   0         0            0           0   \n",
       "2       0        0    0       0   0         0            0           0   \n",
       "3       0        0    0       0   0         0            0           0   \n",
       "4       0        0    0       0   0         0            0           0   \n",
       "\n",
       "   pleased  goin  ...  goes  guitar  singing  sounds  margaret  chatting  \\\n",
       "0        0     0  ...     0       0        0       0         0         0   \n",
       "1        0     0  ...     0       0        0       0         0         0   \n",
       "2        0     0  ...     0       0        0       0         0         0   \n",
       "3        0     0  ...     0       0        0       0         0         0   \n",
       "4        0     0  ...     0       0        0       0         0         0   \n",
       "\n",
       "   iåõd  noisy  match  smth  \n",
       "0     0      0      0     0  \n",
       "1     0      0      0     0  \n",
       "2     0      0      0     0  \n",
       "3     0      0      0     0  \n",
       "4     0      0      0     0  \n",
       "\n",
       "[5 rows x 7766 columns]"
      ]
     },
     "execution_count": 24,
     "metadata": {},
     "output_type": "execute_result"
    }
   ],
   "source": [
    "word_counts_per_sms = {unique_word: [0] * len(test_set['SMS']) for unique_word in vocabulary}\n",
    "\n",
    "for index, sms in enumerate(test_set['SMS']):\n",
    "    for word in sms:\n",
    "        if word in vocabulary:\n",
    "            word_counts_per_sms[word][index] += 1\n",
    "\n",
    "word_counts = pd.DataFrame(word_counts_per_sms)\n",
    "word_counts.head()"
   ]
  },
  {
   "cell_type": "code",
   "execution_count": 25,
   "metadata": {
    "colab": {
     "base_uri": "https://localhost:8080/",
     "height": 610
    },
    "id": "UGl30n5Z23Fo",
    "outputId": "a10d1ed4-99ab-4014-9d18-eafbff1b74b3"
   },
   "outputs": [
    {
     "data": {
      "text/html": [
       "<div>\n",
       "<style scoped>\n",
       "    .dataframe tbody tr th:only-of-type {\n",
       "        vertical-align: middle;\n",
       "    }\n",
       "\n",
       "    .dataframe tbody tr th {\n",
       "        vertical-align: top;\n",
       "    }\n",
       "\n",
       "    .dataframe thead th {\n",
       "        text-align: right;\n",
       "    }\n",
       "</style>\n",
       "<table border=\"1\" class=\"dataframe\">\n",
       "  <thead>\n",
       "    <tr style=\"text-align: right;\">\n",
       "      <th></th>\n",
       "      <th>Label</th>\n",
       "      <th>SMS</th>\n",
       "      <th>splash</th>\n",
       "      <th>paragon</th>\n",
       "      <th>ext</th>\n",
       "      <th>clever</th>\n",
       "      <th>yr</th>\n",
       "      <th>neighbor</th>\n",
       "      <th>08707509020</th>\n",
       "      <th>meaningful</th>\n",
       "      <th>...</th>\n",
       "      <th>goes</th>\n",
       "      <th>guitar</th>\n",
       "      <th>singing</th>\n",
       "      <th>sounds</th>\n",
       "      <th>margaret</th>\n",
       "      <th>chatting</th>\n",
       "      <th>iåõd</th>\n",
       "      <th>noisy</th>\n",
       "      <th>match</th>\n",
       "      <th>smth</th>\n",
       "    </tr>\n",
       "  </thead>\n",
       "  <tbody>\n",
       "    <tr>\n",
       "      <th>0</th>\n",
       "      <td>0</td>\n",
       "      <td>[s, from, the, training, manual, it, show, the...</td>\n",
       "      <td>0</td>\n",
       "      <td>0</td>\n",
       "      <td>0</td>\n",
       "      <td>0</td>\n",
       "      <td>0</td>\n",
       "      <td>0</td>\n",
       "      <td>0</td>\n",
       "      <td>0</td>\n",
       "      <td>...</td>\n",
       "      <td>0</td>\n",
       "      <td>0</td>\n",
       "      <td>0</td>\n",
       "      <td>0</td>\n",
       "      <td>0</td>\n",
       "      <td>0</td>\n",
       "      <td>0</td>\n",
       "      <td>0</td>\n",
       "      <td>0</td>\n",
       "      <td>0</td>\n",
       "    </tr>\n",
       "    <tr>\n",
       "      <th>1</th>\n",
       "      <td>1</td>\n",
       "      <td>[do, you, want, a, new, video, phone, 600, any...</td>\n",
       "      <td>0</td>\n",
       "      <td>0</td>\n",
       "      <td>0</td>\n",
       "      <td>0</td>\n",
       "      <td>0</td>\n",
       "      <td>0</td>\n",
       "      <td>0</td>\n",
       "      <td>0</td>\n",
       "      <td>...</td>\n",
       "      <td>0</td>\n",
       "      <td>0</td>\n",
       "      <td>0</td>\n",
       "      <td>0</td>\n",
       "      <td>0</td>\n",
       "      <td>0</td>\n",
       "      <td>0</td>\n",
       "      <td>0</td>\n",
       "      <td>0</td>\n",
       "      <td>0</td>\n",
       "    </tr>\n",
       "    <tr>\n",
       "      <th>2</th>\n",
       "      <td>0</td>\n",
       "      <td>[true, its, easier, with, her, here]</td>\n",
       "      <td>0</td>\n",
       "      <td>0</td>\n",
       "      <td>0</td>\n",
       "      <td>0</td>\n",
       "      <td>0</td>\n",
       "      <td>0</td>\n",
       "      <td>0</td>\n",
       "      <td>0</td>\n",
       "      <td>...</td>\n",
       "      <td>0</td>\n",
       "      <td>0</td>\n",
       "      <td>0</td>\n",
       "      <td>0</td>\n",
       "      <td>0</td>\n",
       "      <td>0</td>\n",
       "      <td>0</td>\n",
       "      <td>0</td>\n",
       "      <td>0</td>\n",
       "      <td>0</td>\n",
       "    </tr>\n",
       "    <tr>\n",
       "      <th>3</th>\n",
       "      <td>0</td>\n",
       "      <td>[midnight, at, the, earliest]</td>\n",
       "      <td>0</td>\n",
       "      <td>0</td>\n",
       "      <td>0</td>\n",
       "      <td>0</td>\n",
       "      <td>0</td>\n",
       "      <td>0</td>\n",
       "      <td>0</td>\n",
       "      <td>0</td>\n",
       "      <td>...</td>\n",
       "      <td>0</td>\n",
       "      <td>0</td>\n",
       "      <td>0</td>\n",
       "      <td>0</td>\n",
       "      <td>0</td>\n",
       "      <td>0</td>\n",
       "      <td>0</td>\n",
       "      <td>0</td>\n",
       "      <td>0</td>\n",
       "      <td>0</td>\n",
       "    </tr>\n",
       "    <tr>\n",
       "      <th>4</th>\n",
       "      <td>0</td>\n",
       "      <td>[all, done, all, handed, in, don, t, know, if,...</td>\n",
       "      <td>0</td>\n",
       "      <td>0</td>\n",
       "      <td>0</td>\n",
       "      <td>0</td>\n",
       "      <td>0</td>\n",
       "      <td>0</td>\n",
       "      <td>0</td>\n",
       "      <td>0</td>\n",
       "      <td>...</td>\n",
       "      <td>0</td>\n",
       "      <td>0</td>\n",
       "      <td>0</td>\n",
       "      <td>0</td>\n",
       "      <td>0</td>\n",
       "      <td>0</td>\n",
       "      <td>0</td>\n",
       "      <td>0</td>\n",
       "      <td>0</td>\n",
       "      <td>0</td>\n",
       "    </tr>\n",
       "  </tbody>\n",
       "</table>\n",
       "<p>5 rows × 7768 columns</p>\n",
       "</div>"
      ],
      "text/plain": [
       "   Label                                                SMS  splash  paragon  \\\n",
       "0      0  [s, from, the, training, manual, it, show, the...       0        0   \n",
       "1      1  [do, you, want, a, new, video, phone, 600, any...       0        0   \n",
       "2      0               [true, its, easier, with, her, here]       0        0   \n",
       "3      0                      [midnight, at, the, earliest]       0        0   \n",
       "4      0  [all, done, all, handed, in, don, t, know, if,...       0        0   \n",
       "\n",
       "   ext  clever  yr  neighbor  08707509020  meaningful  ...  goes  guitar  \\\n",
       "0    0       0   0         0            0           0  ...     0       0   \n",
       "1    0       0   0         0            0           0  ...     0       0   \n",
       "2    0       0   0         0            0           0  ...     0       0   \n",
       "3    0       0   0         0            0           0  ...     0       0   \n",
       "4    0       0   0         0            0           0  ...     0       0   \n",
       "\n",
       "   singing  sounds  margaret  chatting  iåõd  noisy  match  smth  \n",
       "0        0       0         0         0     0      0      0     0  \n",
       "1        0       0         0         0     0      0      0     0  \n",
       "2        0       0         0         0     0      0      0     0  \n",
       "3        0       0         0         0     0      0      0     0  \n",
       "4        0       0         0         0     0      0      0     0  \n",
       "\n",
       "[5 rows x 7768 columns]"
      ]
     },
     "execution_count": 25,
     "metadata": {},
     "output_type": "execute_result"
    }
   ],
   "source": [
    "test_set_clean = pd.concat([test_set, word_counts], axis=1)\n",
    "test_set_clean.head()"
   ]
  },
  {
   "cell_type": "code",
   "execution_count": 26,
   "metadata": {
    "id": "IXq9ebrewgCl"
   },
   "outputs": [],
   "source": [
    "X_test = test_set_clean[test_set_clean.columns.difference(['Label', 'SMS'])]\n",
    "y_test = test_set_clean['Label']"
   ]
  },
  {
   "cell_type": "code",
   "execution_count": 27,
   "metadata": {
    "colab": {
     "base_uri": "https://localhost:8080/"
    },
    "id": "AfKXZ-a059Kl",
    "outputId": "96148267-be20-4781-9031-e8a3aeff3eaa"
   },
   "outputs": [
    {
     "data": {
      "text/plain": [
       "array([0, 1, 0, ..., 0, 0, 0])"
      ]
     },
     "execution_count": 27,
     "metadata": {},
     "output_type": "execute_result"
    }
   ],
   "source": [
    "y_pred = NBClassifier.predict(X_test)\n",
    "\n",
    "y_pred"
   ]
  },
  {
   "cell_type": "code",
   "execution_count": 28,
   "metadata": {
    "colab": {
     "base_uri": "https://localhost:8080/"
    },
    "id": "GCg7iZaj2bh6",
    "outputId": "e9ac7d09-a02b-4ac8-9e68-1376226df7e1"
   },
   "outputs": [
    {
     "data": {
      "text/plain": [
       "0.9937163375224417"
      ]
     },
     "execution_count": 28,
     "metadata": {},
     "output_type": "execute_result"
    }
   ],
   "source": [
    "NBClassifier.score(X_test, y_test)"
   ]
  },
  {
   "cell_type": "code",
   "execution_count": 29,
   "metadata": {
    "colab": {
     "base_uri": "https://localhost:8080/"
    },
    "id": "C0mRNmKnCyn8",
    "outputId": "ba8dd3b3-b21e-4c3d-b3ef-050274d4f0ee"
   },
   "outputs": [
    {
     "name": "stdout",
     "output_type": "stream",
     "text": [
      "Correct: 1107\n",
      "Not Correct: 7\n"
     ]
    }
   ],
   "source": [
    "print(\"Correct:\", sum(y_test == y_pred))\n",
    "print(\"Not Correct:\", sum(y_test != y_pred))"
   ]
  },
  {
   "cell_type": "markdown",
   "metadata": {
    "id": "UzKauBjSCRiK"
   },
   "source": [
    "### We can see that we got the same results as the implementaion above."
   ]
  },
  {
   "cell_type": "markdown",
   "metadata": {
    "id": "8O5cDjs16blU"
   },
   "source": [
    "---"
   ]
  }
 ],
 "metadata": {
  "kernelspec": {
   "display_name": "Python 3",
   "language": "python",
   "name": "python3"
  },
  "language_info": {
   "codemirror_mode": {
    "name": "ipython",
    "version": 3
   },
   "file_extension": ".py",
   "mimetype": "text/x-python",
   "name": "python",
   "nbconvert_exporter": "python",
   "pygments_lexer": "ipython3",
   "version": "3.8.8"
  }
 },
 "nbformat": 4,
 "nbformat_minor": 1
}
