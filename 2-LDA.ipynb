{
 "cells": [
  {
   "cell_type": "markdown",
   "metadata": {
    "id": "OyL5ttDievcN"
   },
   "source": [
    "# Loading packages"
   ]
  },
  {
   "cell_type": "code",
   "execution_count": 1,
   "metadata": {
    "id": "-LFjglpjtetl"
   },
   "outputs": [],
   "source": [
    "import numpy as np\n",
    "from sklearn import datasets\n",
    "from sklearn.metrics import f1_score\n",
    "from sklearn.linear_model import LogisticRegression\n",
    "from sklearn.model_selection import train_test_split\n",
    "from sklearn.discriminant_analysis import LinearDiscriminantAnalysis"
   ]
  },
  {
   "cell_type": "markdown",
   "metadata": {
    "id": "dqjXrKbfe1c4"
   },
   "source": [
    "# Implementation of LDA"
   ]
  },
  {
   "cell_type": "code",
   "execution_count": 2,
   "metadata": {
    "id": "-82xo_8xtiDP"
   },
   "outputs": [],
   "source": [
    "class LDA:\n",
    "    def __init__(self, n_components):\n",
    "        self.n_components = n_components\n",
    "        assert self.n_components != 0, \"No. of components should not be 0!\"\n",
    "        assert type(self.n_components) != float, \"No. of components should be integer!\"\n",
    "        self.linear_discriminants = None\n",
    "        self.mean_overall = None\n",
    "        self.class_labels_count = None\n",
    "        self.train_x, self.train_y = None, None\n",
    "\n",
    "    def fit(self, X, y):\n",
    "        self.train_x, self.train_y = X, y\n",
    "        n_features = X.shape[1]\n",
    "        class_labels = np.unique(y)\n",
    "        self.class_labels_count = len(class_labels)\n",
    "        assert self.n_components <= self.class_labels_count - 1, \"No. of components should not exceed (no. of classes - 1) but exceeded this!\"\n",
    "\n",
    "        # Within class scatter matrix:\n",
    "        # SW = sum((X_c - mean_X_c)^2 )\n",
    "\n",
    "        # Between class scatter:\n",
    "        # SB = sum( n_c * (mean_X_c - mean_overall)^2 )\n",
    "\n",
    "        self.mean_overall = np.mean(X, axis=0)\n",
    "        SW = np.zeros((n_features, n_features))\n",
    "        SB = np.zeros((n_features, n_features))\n",
    "        for c in class_labels:\n",
    "            X_c = X[y == c]\n",
    "            mean_c = np.mean(X_c, axis=0)\n",
    "            # (4, n_c) * (n_c, 4) = (4,4) -> transpose\n",
    "            SW += (X_c - mean_c).T.dot((X_c - mean_c))\n",
    "\n",
    "            # (4, 1) * (1, 4) = (4,4) -> reshape\n",
    "            n_c = X_c.shape[0]\n",
    "            mean_diff = (mean_c - self.mean_overall).reshape(n_features, 1)\n",
    "            SB += n_c * (mean_diff).dot(mean_diff.T)\n",
    "\n",
    "        # Determine SW^-1 * SB\n",
    "        A = np.linalg.inv(SW).dot(SB)\n",
    "        # Get eigenvalues and eigenvectors of SW^-1 * SB\n",
    "        eigenvalues, eigenvectors = np.linalg.eig(A)\n",
    "        # -> eigenvector v = [:,i] column vector, transpose for easier calculations\n",
    "        # sort eigenvalues high to low\n",
    "        eigenvectors = eigenvectors.T\n",
    "        idxs = np.argsort(abs(eigenvalues))[::-1]\n",
    "        eigenvalues = eigenvalues[idxs]\n",
    "        eigenvectors = eigenvectors[idxs]\n",
    "        # store first n eigenvectors\n",
    "        self.linear_discriminants = eigenvectors[0:self.n_components]\n",
    "\n",
    "    def transform(self, X):\n",
    "        # project data\n",
    "        return np.dot(X, self.linear_discriminants.T)\n",
    "\n",
    "    def predict(self, X):\n",
    "        # predict targets\n",
    "\n",
    "        # project the means and take their mean, y(x) = dot(X, Eigen_VECs) + threshold\n",
    "        threshold = np.zeros(self.class_labels_count) # (class_count,1)\n",
    "        w = 0\n",
    "        for feat_mean in self.mean_overall:\n",
    "            w += np.dot(self.linear_discriminants, feat_mean)\n",
    "            threshold = (1/len(self.mean_overall)) * w\n",
    "\n",
    "        threshold = threshold.reshape(-1,1)\n",
    "\n",
    "        Y = np.zeros((len(X), self.class_labels_count))\n",
    "        preds = np.zeros((len(X)), dtype=int)\n",
    "\n",
    "        for j in range(len(X)):\n",
    "            for i in range(self.n_components):\n",
    "                Y[j, i] = np.dot(self.linear_discriminants[i].T,  X[j]) + threshold[i]\n",
    "            preds[j] = np.argmin(Y[j])\n",
    "\n",
    "        return preds"
   ]
  },
  {
   "cell_type": "markdown",
   "metadata": {
    "id": "0yMTogV-e7m4"
   },
   "source": [
    "# Creating dataset"
   ]
  },
  {
   "cell_type": "code",
   "execution_count": 3,
   "metadata": {
    "id": "IH5DYm9gwhkl"
   },
   "outputs": [],
   "source": [
    "data = datasets.load_iris()"
   ]
  },
  {
   "cell_type": "code",
   "execution_count": 4,
   "metadata": {
    "id": "Qqoe7vwKwpcv"
   },
   "outputs": [],
   "source": [
    "X = data.data\n",
    "y = data.target\n",
    "feats = data.target_names"
   ]
  },
  {
   "cell_type": "code",
   "execution_count": 5,
   "metadata": {
    "colab": {
     "base_uri": "https://localhost:8080/"
    },
    "id": "jE3PdybgwxKt",
    "outputId": "d5d64213-2fb5-4deb-dd3d-7c1b960c692e"
   },
   "outputs": [
    {
     "data": {
      "text/plain": [
       "array(['setosa', 'versicolor', 'virginica'], dtype='<U10')"
      ]
     },
     "execution_count": 5,
     "metadata": {},
     "output_type": "execute_result"
    }
   ],
   "source": [
    "feats"
   ]
  },
  {
   "cell_type": "code",
   "execution_count": 6,
   "metadata": {
    "colab": {
     "base_uri": "https://localhost:8080/"
    },
    "id": "CBxqYAo3wv0l",
    "outputId": "080f9004-e12d-4ffc-ea49-346f29507d49"
   },
   "outputs": [
    {
     "name": "stdout",
     "output_type": "stream",
     "text": [
      "(150, 4)\n",
      "(150,)\n"
     ]
    }
   ],
   "source": [
    "print(X.shape)\n",
    "print(y.shape)"
   ]
  },
  {
   "cell_type": "markdown",
   "metadata": {
    "id": "3_BDHksafB06"
   },
   "source": [
    "# Split dataset"
   ]
  },
  {
   "cell_type": "code",
   "execution_count": 7,
   "metadata": {
    "id": "3OnbVgefxow5"
   },
   "outputs": [],
   "source": [
    "X_train, X_test, y_train, y_test = train_test_split(X, y, test_size=0.2, random_state=42)\n",
    "test_x, test_y = X_test.copy(), y_test.copy()"
   ]
  },
  {
   "cell_type": "code",
   "execution_count": 8,
   "metadata": {
    "colab": {
     "base_uri": "https://localhost:8080/"
    },
    "id": "E1zTzktd8mXj",
    "outputId": "22f063e7-7913-4b22-a6c9-373876c72163"
   },
   "outputs": [
    {
     "data": {
      "text/plain": [
       "{0, 1, 2}"
      ]
     },
     "execution_count": 8,
     "metadata": {},
     "output_type": "execute_result"
    }
   ],
   "source": [
    "set(y_train)"
   ]
  },
  {
   "cell_type": "code",
   "execution_count": 9,
   "metadata": {
    "colab": {
     "base_uri": "https://localhost:8080/"
    },
    "id": "jDvv9nMz9Pp3",
    "outputId": "b8e9db32-6d6e-4747-d4f2-22344c454fac"
   },
   "outputs": [
    {
     "data": {
      "text/plain": [
       "{0, 1, 2}"
      ]
     },
     "execution_count": 9,
     "metadata": {},
     "output_type": "execute_result"
    }
   ],
   "source": [
    "set(y_test)"
   ]
  },
  {
   "cell_type": "markdown",
   "metadata": {
    "id": "d7rHrgg0fl0M"
   },
   "source": [
    "# Applying LDA"
   ]
  },
  {
   "cell_type": "code",
   "execution_count": 10,
   "metadata": {
    "id": "ZmTCqiGtynfU"
   },
   "outputs": [],
   "source": [
    "lda = LDA(2)\n",
    "lda.fit(X_train, y_train)"
   ]
  },
  {
   "cell_type": "markdown",
   "metadata": {
    "id": "DnQNEf0jf0JV"
   },
   "source": [
    "> ## Predict with LDA"
   ]
  },
  {
   "cell_type": "code",
   "execution_count": 11,
   "metadata": {
    "colab": {
     "base_uri": "https://localhost:8080/"
    },
    "id": "tGSs7_bjZTOG",
    "outputId": "2dcba4ca-3afe-455f-d3b8-1b2c2db4e4ef"
   },
   "outputs": [
    {
     "data": {
      "text/plain": [
       "array([0, 1, 0, 0, 0, 1, 1, 0, 0, 0, 0, 2, 1, 2, 1, 1, 0, 0, 0, 0, 1, 0,\n",
       "       1, 0, 0, 0, 0, 0, 1, 2])"
      ]
     },
     "execution_count": 11,
     "metadata": {},
     "output_type": "execute_result"
    }
   ],
   "source": [
    "pred = lda.predict(X_test)\n",
    "pred"
   ]
  },
  {
   "cell_type": "code",
   "execution_count": 12,
   "metadata": {
    "colab": {
     "base_uri": "https://localhost:8080/"
    },
    "id": "7ym2kXNBeCEc",
    "outputId": "11fbd3d1-0f85-4470-b541-7463dcdb6b98"
   },
   "outputs": [
    {
     "data": {
      "text/plain": [
       "6.666666666666667"
      ]
     },
     "execution_count": 12,
     "metadata": {},
     "output_type": "execute_result"
    }
   ],
   "source": [
    "(pred == y_test).sum() / len(y_test) * 100"
   ]
  },
  {
   "cell_type": "markdown",
   "metadata": {
    "id": "rV31auwXf45x"
   },
   "source": [
    "> ## Transform with LDA"
   ]
  },
  {
   "cell_type": "code",
   "execution_count": 13,
   "metadata": {
    "id": "C5TOxiK3w4yf"
   },
   "outputs": [],
   "source": [
    "X_train = lda.transform(X_train)\n",
    "X_test = lda.transform(X_test)"
   ]
  },
  {
   "cell_type": "code",
   "execution_count": 14,
   "metadata": {
    "colab": {
     "base_uri": "https://localhost:8080/"
    },
    "id": "z3xHpMT2xPd6",
    "outputId": "21d471ae-58d6-49a5-c7d9-02cf1eb30508"
   },
   "outputs": [
    {
     "data": {
      "text/plain": [
       "(120, 2)"
      ]
     },
     "execution_count": 14,
     "metadata": {},
     "output_type": "execute_result"
    }
   ],
   "source": [
    "X_train.shape"
   ]
  },
  {
   "cell_type": "code",
   "execution_count": 15,
   "metadata": {
    "colab": {
     "base_uri": "https://localhost:8080/"
    },
    "id": "7Eq1njb_9jc8",
    "outputId": "db3d15b5-de32-445a-866e-d8bf46ad8b1f"
   },
   "outputs": [
    {
     "data": {
      "text/plain": [
       "(30, 2)"
      ]
     },
     "execution_count": 15,
     "metadata": {},
     "output_type": "execute_result"
    }
   ],
   "source": [
    "X_test.shape"
   ]
  },
  {
   "cell_type": "markdown",
   "metadata": {
    "id": "frIX-5krfSHz"
   },
   "source": [
    "# Using Logistic Regression"
   ]
  },
  {
   "cell_type": "code",
   "execution_count": 16,
   "metadata": {
    "id": "Kn17q4mfx4GX"
   },
   "outputs": [],
   "source": [
    "model = LogisticRegression(C=0.01, random_state=42)"
   ]
  },
  {
   "cell_type": "code",
   "execution_count": 17,
   "metadata": {
    "colab": {
     "base_uri": "https://localhost:8080/"
    },
    "id": "lgNqSbMvx-QJ",
    "outputId": "a23e94db-1908-4fe9-ed12-1b33f2ab3e6a"
   },
   "outputs": [
    {
     "data": {
      "text/plain": [
       "LogisticRegression(C=0.01, random_state=42)"
      ]
     },
     "execution_count": 17,
     "metadata": {},
     "output_type": "execute_result"
    }
   ],
   "source": [
    "model.fit(X_train, y_train)"
   ]
  },
  {
   "cell_type": "code",
   "execution_count": 18,
   "metadata": {
    "colab": {
     "base_uri": "https://localhost:8080/"
    },
    "id": "Wgpgg4S8yG6Q",
    "outputId": "006ae3de-3e1f-45e0-a2ac-6681367e0765"
   },
   "outputs": [
    {
     "data": {
      "text/plain": [
       "0.9416666666666667"
      ]
     },
     "execution_count": 18,
     "metadata": {},
     "output_type": "execute_result"
    }
   ],
   "source": [
    "model.score(X_train, y_train)"
   ]
  },
  {
   "cell_type": "code",
   "execution_count": 19,
   "metadata": {
    "colab": {
     "base_uri": "https://localhost:8080/"
    },
    "id": "gdAz00IfyJlG",
    "outputId": "168729ce-29ba-4f97-8c13-c0427b45fcfa"
   },
   "outputs": [
    {
     "data": {
      "text/plain": [
       "0.9"
      ]
     },
     "execution_count": 19,
     "metadata": {},
     "output_type": "execute_result"
    }
   ],
   "source": [
    "model.score(X_test, y_test)"
   ]
  },
  {
   "cell_type": "code",
   "execution_count": 20,
   "metadata": {
    "colab": {
     "base_uri": "https://localhost:8080/"
    },
    "id": "puFC2TEYyNRx",
    "outputId": "482273b2-262f-4b8e-aebc-959dff75a522"
   },
   "outputs": [
    {
     "data": {
      "text/plain": [
       "array([1.        , 0.90666667, 0.91764706])"
      ]
     },
     "execution_count": 20,
     "metadata": {},
     "output_type": "execute_result"
    }
   ],
   "source": [
    "f1_score(y_train, model.predict(X_train), average=None)"
   ]
  },
  {
   "cell_type": "code",
   "execution_count": 21,
   "metadata": {
    "colab": {
     "base_uri": "https://localhost:8080/"
    },
    "id": "xfwEQZdDrrRL",
    "outputId": "02aa70a7-da16-45f3-c2d0-3f484868cc83"
   },
   "outputs": [
    {
     "data": {
      "text/plain": [
       "array([1.  , 0.8 , 0.88])"
      ]
     },
     "execution_count": 21,
     "metadata": {},
     "output_type": "execute_result"
    }
   ],
   "source": [
    "f1_score(y_test, model.predict(X_test), average=None)"
   ]
  },
  {
   "cell_type": "markdown",
   "metadata": {
    "id": "o6BmcZWsXwEz"
   },
   "source": [
    "# Using LDA from sklearn"
   ]
  },
  {
   "cell_type": "code",
   "execution_count": 22,
   "metadata": {
    "colab": {
     "base_uri": "https://localhost:8080/"
    },
    "id": "YUAV7XnFaA0X",
    "outputId": "32540288-8433-4425-c14c-4580fe32d719"
   },
   "outputs": [
    {
     "data": {
      "text/plain": [
       "LinearDiscriminantAnalysis(n_components=2, tol=0.5)"
      ]
     },
     "execution_count": 22,
     "metadata": {},
     "output_type": "execute_result"
    }
   ],
   "source": [
    "ld = LinearDiscriminantAnalysis(n_components=2, solver='svd', tol=0.5)\n",
    "ld.fit(lda.train_x, lda.train_y)"
   ]
  },
  {
   "cell_type": "code",
   "execution_count": 23,
   "metadata": {
    "colab": {
     "base_uri": "https://localhost:8080/"
    },
    "id": "JIEcTpZhUKaV",
    "outputId": "c68c5273-c185-41e2-ba29-ab14873c0b67"
   },
   "outputs": [
    {
     "data": {
      "text/plain": [
       "0.975"
      ]
     },
     "execution_count": 23,
     "metadata": {},
     "output_type": "execute_result"
    }
   ],
   "source": [
    "(ld.predict(lda.train_x) == lda.train_y).sum() / len(lda.train_y)"
   ]
  },
  {
   "cell_type": "code",
   "execution_count": 24,
   "metadata": {
    "colab": {
     "base_uri": "https://localhost:8080/"
    },
    "id": "GrT0NX8MU0fj",
    "outputId": "83a7db57-5581-4c4d-a57e-84a65ea98644"
   },
   "outputs": [
    {
     "data": {
      "text/plain": [
       "0.9666666666666667"
      ]
     },
     "execution_count": 24,
     "metadata": {},
     "output_type": "execute_result"
    }
   ],
   "source": [
    "(ld.predict(test_x) == test_y).sum() / len(test_y)"
   ]
  },
  {
   "cell_type": "code",
   "execution_count": null,
   "metadata": {
    "id": "j73f4I8CU7nI"
   },
   "outputs": [],
   "source": []
  }
 ],
 "metadata": {
  "kernelspec": {
   "display_name": "Python 3",
   "language": "python",
   "name": "python3"
  },
  "language_info": {
   "codemirror_mode": {
    "name": "ipython",
    "version": 3
   },
   "file_extension": ".py",
   "mimetype": "text/x-python",
   "name": "python",
   "nbconvert_exporter": "python",
   "pygments_lexer": "ipython3",
   "version": "3.8.8"
  }
 },
 "nbformat": 4,
 "nbformat_minor": 1
}
